{
  "cells": [
    {
      "cell_type": "markdown",
      "metadata": {
        "id": "3nK5CA5AGreE"
      },
      "source": [
        "# Homework 2\n",
        "\n",
        "**Name:** -- Roberto José --\n",
        "\n",
        "**e-mail:** -- roberto.jose0745@alumnos.udg.mx --"
      ]
    },
    {
      "cell_type": "markdown",
      "metadata": {
        "id": "c3IDGOrQGreG"
      },
      "source": [
        "# Modules"
      ]
    },
    {
      "cell_type": "code",
      "execution_count": null,
      "metadata": {
        "id": "emPNDc8EGreI"
      },
      "outputs": [],
      "source": [
        "# Load modules\n",
        "import numpy as np\n",
        "import math"
      ]
    },
    {
      "cell_type": "markdown",
      "source": [
        "#Class Vec2d()"
      ],
      "metadata": {
        "id": "cp95ooehbwnR"
      }
    },
    {
      "cell_type": "code",
      "source": [
        "class Vec2d(object):\n",
        "    \"\"\"2D vector class with basic operations\"\"\"\n",
        "    __slots__ = ['x', 'y']\n",
        "\n",
        "    def __init__(self, x_or_pair, y=None):\n",
        "        if y is None:\n",
        "            self.x, self.y = x_or_pair\n",
        "        else:\n",
        "            self.x, self.y = x_or_pair, y\n",
        "\n",
        "    def __add__(self, other):\n",
        "        return Vec2d(self.x + other.x, self.y + other.y)\n",
        "\n",
        "    def __sub__(self, other):\n",
        "        return Vec2d(self.x - other.x, self.y - other.y)\n",
        "\n",
        "    def get_length(self):\n",
        "        return math.sqrt(self.x**2 + self.y**2)\n",
        "\n",
        "    def rotated(self, angle):\n",
        "        cos, sin = math.cos(angle), math.sin(angle)\n",
        "        return Vec2d(self.x * cos - self.y * sin, self.x * sin + self.y * cos)\n"
      ],
      "metadata": {
        "id": "nmIx5zu2b-sR"
      },
      "execution_count": null,
      "outputs": []
    },
    {
      "cell_type": "markdown",
      "metadata": {
        "id": "J2SIvdSlGreJ"
      },
      "source": [
        "# Correlated Random Walk (CRW)\n",
        "A Correlated Random Walk is a movement pattern where each step is influenced by the previous step's direction. Unlike regular random walks where each step is completely random, CRWs tend to keep going in similar directions.\n",
        "\n",
        "This type of movement is commonly used to model animal foraging behavior, robot path planning, and diffusion processes in physics and biology.\n",
        "\n",
        "1. Each step:\n",
        "* Uses the previous direction as a guide\n",
        "* Adds a small random change in angle\n",
        "* Moves forward by a fixed distance\n",
        "\n",
        "2. The math is straightforward:\n",
        "* Start at point zero (0,0)\n",
        "* Pick a direction\n",
        "* For each step:\n",
        " * Slightly change direction\n",
        " * Move forward\n",
        " * Record new position"
      ]
    },
    {
      "cell_type": "code",
      "execution_count": null,
      "metadata": {
        "id": "U9-E4IhqGreK"
      },
      "outputs": [],
      "source": [
        "# Function to be optimized\n"
      ]
    },
    {
      "cell_type": "code",
      "execution_count": null,
      "metadata": {
        "id": "57I-badLGreK"
      },
      "outputs": [],
      "source": [
        "# Run gradient descent algorithm"
      ]
    },
    {
      "cell_type": "code",
      "execution_count": null,
      "metadata": {
        "id": "gAygfAJIGreK"
      },
      "outputs": [],
      "source": [
        "# Plot the results"
      ]
    }
  ],
  "metadata": {
    "language_info": {
      "name": "python"
    },
    "colab": {
      "provenance": []
    }
  },
  "nbformat": 4,
  "nbformat_minor": 0
}