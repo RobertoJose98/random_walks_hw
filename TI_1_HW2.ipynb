{
  "cells": [
    {
      "cell_type": "markdown",
      "metadata": {
        "id": "3nK5CA5AGreE"
      },
      "source": [
        "# Homework 2\n",
        "\n",
        "**Name:** -- Roberto José --\n",
        "\n",
        "**e-mail:** -- roberto.jose0745@alumnos.udg.mx --"
      ]
    },
    {
      "cell_type": "markdown",
      "metadata": {
        "id": "c3IDGOrQGreG"
      },
      "source": [
        "# Modules"
      ]
    },
    {
      "cell_type": "code",
      "execution_count": 6,
      "metadata": {
        "id": "emPNDc8EGreI"
      },
      "outputs": [],
      "source": [
        "# Load modules\n",
        "import numpy as np\n",
        "import math\n",
        "import scipy.stats as stats\n",
        "import plotly.graph_objects as go\n",
        "import scipy.stats as stats\n",
        "from scipy.stats import levy_stable"
      ]
    },
    {
      "cell_type": "markdown",
      "source": [
        "#Class Vec2d()"
      ],
      "metadata": {
        "id": "cp95ooehbwnR"
      }
    },
    {
      "cell_type": "code",
      "source": [
        "class Vec2d(object):\n",
        "    \"\"\"2D vector class with basic operations\"\"\"\n",
        "    __slots__ = ['x', 'y']\n",
        "\n",
        "    def __init__(self, x_or_pair, y=None):\n",
        "        if y is None:\n",
        "            self.x, self.y = x_or_pair\n",
        "        else:\n",
        "            self.x, self.y = x_or_pair, y\n",
        "\n",
        "    def __add__(self, other):\n",
        "        return Vec2d(self.x + other.x, self.y + other.y)\n",
        "\n",
        "    def __sub__(self, other):\n",
        "        return Vec2d(self.x - other.x, self.y - other.y)\n",
        "\n",
        "    def get_length(self):\n",
        "        return math.sqrt(self.x**2 + self.y**2)\n",
        "\n",
        "    def rotated(self, angle):\n",
        "        cos, sin = math.cos(angle), math.sin(angle)\n",
        "        return Vec2d(self.x * cos - self.y * sin, self.x * sin + self.y * cos)\n"
      ],
      "metadata": {
        "id": "nmIx5zu2b-sR"
      },
      "execution_count": 2,
      "outputs": []
    },
    {
      "cell_type": "markdown",
      "metadata": {
        "id": "J2SIvdSlGreJ"
      },
      "source": [
        "# Correlated Random Walk (CRW)\n",
        "A Correlated Random Walk is a movement pattern where each step is influenced by the previous step's direction. Unlike regular random walks where each step is completely random, CRWs tend to keep going in similar directions.\n",
        "\n",
        "This type of movement is commonly used to model animal foraging behavior, robot path planning, and diffusion processes in physics and biology.\n",
        "\n",
        "1. Each step:\n",
        "* Uses the previous direction as a guide\n",
        "* Adds a small random change in angle\n",
        "* Moves forward by a fixed distance\n",
        "\n",
        "2. The math is straightforward:\n",
        "* Start at point zero (0,0)\n",
        "* Pick a direction\n",
        "* For each step:\n",
        " * Slightly change direction\n",
        " * Move forward\n",
        " * Record new position"
      ]
    },
    {
      "cell_type": "code",
      "execution_count": 8,
      "metadata": {
        "colab": {
          "base_uri": "https://localhost:8080/",
          "height": 542
        },
        "id": "U9-E4IhqGreK",
        "outputId": "445f90b9-aa61-4161-bdfe-ace762620022"
      },
      "outputs": [
        {
          "output_type": "display_data",
          "data": {
            "text/html": [
              "<html>\n",
              "<head><meta charset=\"utf-8\" /></head>\n",
              "<body>\n",
              "    <div>            <script src=\"https://cdnjs.cloudflare.com/ajax/libs/mathjax/2.7.5/MathJax.js?config=TeX-AMS-MML_SVG\"></script><script type=\"text/javascript\">if (window.MathJax && window.MathJax.Hub && window.MathJax.Hub.Config) {window.MathJax.Hub.Config({SVG: {font: \"STIX-Web\"}});}</script>                <script type=\"text/javascript\">window.PlotlyConfig = {MathJaxConfig: 'local'};</script>\n",
              "        <script charset=\"utf-8\" src=\"https://cdn.plot.ly/plotly-2.35.2.min.js\"></script>                <div id=\"3b8593f6-d4de-4956-9f10-4ddb8107a282\" class=\"plotly-graph-div\" style=\"height:525px; width:100%;\"></div>            <script type=\"text/javascript\">                                    window.PLOTLYENV=window.PLOTLYENV || {};                                    if (document.getElementById(\"3b8593f6-d4de-4956-9f10-4ddb8107a282\")) {                    Plotly.newPlot(                        \"3b8593f6-d4de-4956-9f10-4ddb8107a282\",                        [{\"mode\":\"lines\",\"x\":[0.6363581922294583,1.4964293651266583,2.4423200033955683,2.8836414145774567,3.1427589692616493,3.003974635024665,2.0275025966193794,1.8577382328241172,1.2540340654250037,1.0678214072126255,0.20031428568990595,-0.5116258180710371,-1.387465532763916,-2.3726817602658707,-2.058332092734545,-1.1996791319095885,-0.9379784101239629,-0.6182671309770567,0.3447518062126659,1.2443185961370604,2.1900072585573085,2.495997985201341,2.9631984248656273,1.9684991286056779,2.0778277725837238,2.0831119773682016,2.167555024951828,2.13159483090093,1.3407390898820424,2.2813269567528422,3.1318514729546765,3.3962243405955466,4.382556102338133,3.4169418102860205,2.450549805627373,1.5086848469025957,0.5933262038162919,-0.018488608118463756,-0.9734843582715432,-1.9396790860410178,-2.9200017057589323,-3.9095706737346028,-4.3416521753206005,-4.7576232952254545,-5.754414307896023,-5.591876009828498,-5.982840368789107,-5.509074288720548,-5.355203926300006,-5.619390138793969,-6.520444150428532,-6.4071964061921,-7.126826287570455,-8.031824497838008,-8.678469546519233,-7.686401466438279,-7.105196239574151,-6.455501518286182,-5.658975804713975,-4.666697574292607,-3.699380783301649,-2.7020172028370686,-1.90454592090859,-0.9192172340053403,-0.04697111376579022,0.3508516922191277,0.39661907700353727,-0.16575108988732223,0.8200985569462207,1.477984299724635,2.1379665920484383,1.1399998772106437,0.14666566708543927,-0.2117540005124386,-1.1939052952763516,-1.5521227624278828,-0.7643163794855108,-1.7551699064925423,-2.6776057508867357,-2.2809330668956056,-1.3821754615935409,-1.1395817181225383,-1.4606630496011248,-1.6464320021834213,-1.4245114522033198,-0.9672496103358105,-0.04196691267653807,-1.0337003609342577,-1.9932307475213782,-1.4555265236476083,-0.46366680108023217,-0.40696979966670677,-1.0488490858356672,-1.7039158945066477,-2.681800340483014,-3.666385332995059,-2.692194424315252,-2.238918738569342,-1.5339285676422498,-2.302053143560116,-1.6337955325484284,-2.0921995007673053,-2.8331310382208876,-1.854956597220812,-1.6820893474837886,-2.3258208012409267,-3.2876085835730207,-4.2750579888102465,-5.00078324990679,-4.249998508249289,-3.285652949407737,-2.3517290404481446,-1.9395678985291471,-2.0562337138377527,-2.4062020931576837,-1.5737616048573524,-0.9566515645399756,-0.09031337928918926,0.23914821869808245,0.35876456228111403,1.294001369056489,2.2156438130986116,2.7053711818744373,1.7157593688324084,2.176472527398463,1.2042287562475944,0.5262620531029314,0.9007545237087047,-0.011305771146092436,-0.8667525732024146,-1.4680716059919974,-2.188498487135438,-1.3555739698237992,-0.35900484383646813,0.33577938883347025,-0.6111393938421369,-0.7879253732140287,-1.5062516940615285,-2.122426739909878,-2.6769118605199895,-3.67607433318856,-2.859127481056121,-2.6956854873032285,-3.0813613681090692,-3.8482850502339456,-4.528613526492446,-4.303407467283517,-3.59888588533397,-2.678186023958943,-1.7382443590428558,-2.520588844117711,-3.3115727158881656,-4.235644213450052,-5.235284293803427,-6.235060728085915,-5.358262532105604,-4.390492388927873,-3.5017714244273037,-3.255844878298568,-2.4365488208898722,-2.0331324533200283,-1.0406038052882765,-0.04226158451141504,0.9288034935465416,1.5358443985114074,1.7335620064350754,2.6753266970260614,3.466848582761389,4.4606875145253575,3.4698161961232388,2.4769088313861536,1.5007420585042248,0.5979193444128018,-0.25325648842762405,-1.1064600495882218,-0.8412253184122291,-0.13920091055381256,0.8607000849916073,1.489156824977822,2.0624997942639127,1.0683113886384838,1.1429299917766635,0.27496132841227294,0.21776141316225006,-0.04609469550707174,0.7820859176351371,0.6828621570164897,0.988687581873535,1.9620775610184262,2.81629239586303,3.664279486671302,3.2964748840089046,3.06749699396877,3.585563788903696,4.335873630155013,5.241749759049427,6.149369063985523,6.336350957493548,5.897437398315,4.897537595510455],\"y\":[-0.7713937069891456,-1.281567772922759,-0.9570821793515902,-0.059733076698432974,0.9061127147478435,1.8964353432737178,2.1120793977074666,3.0975640808888896,3.894772509259377,4.877281972787072,4.379857210529135,3.6776170175347023,4.160219125038075,4.331534579877435,3.3822273132229843,2.869669908763215,1.904520836227328,0.957005824216305,0.68757210952199,0.25078887900012037,0.5758626456590168,1.5278971383155893,2.4120485671882106,2.3092219654746393,3.303227623207995,4.303213661700431,5.29964196906368,6.298995192125387,6.910997803964149,7.2505481900564615,6.724612787806683,7.689033332411236,7.853804858403338,7.593825938133448,7.850898872009888,8.186890537868393,7.784251053307824,6.993250019239448,6.696630537091768,6.954443934785665,6.757041905238333,6.6129819954106255,7.514816556728382,8.424194381070444,8.344146413830899,7.357444178269778,6.437038360153377,5.556387634055639,4.568296589885836,3.6038248976480105,3.17011800570685,2.1765512246471364,1.4821933674672982,1.0567779946696894,0.2939869479104499,0.4196886761582798,1.2334456941100878,0.4732504763333971,-0.13135417764992097,-0.007322272755090953,-0.26089322114420815,-0.1883267801203162,0.41503012462127253,0.5856975754299121,0.09663039627447734,-0.8208318727253372,-1.8197839969485141,-2.6466695968903373,-2.479037637413093,-1.7259198847018082,-0.9746387297278399,-1.0383759721835784,-0.9231060845505201,0.010454487602689522,0.1985471089188126,1.132185286280655,0.5162623178866699,0.38132052296112867,0.7674708990800352,-0.15048922084635596,0.28795663317863,-0.6821713355083503,-1.6292229595373358,-2.6118164137474063,-3.5868811651852432,-2.697549051758581,-3.0768272206694487,-3.205142331263853,-3.486747439910647,-4.32988098071442,-4.457216328315034,-3.458824897046357,-2.692019196762884,-1.9364482363775484,-2.1455941431448022,-1.9706873321851983,-1.7449616724882706,-0.8535912934024628,-0.14437421880809642,-0.7846746450698628,-1.528604591586975,-2.417348537794874,-3.088929103927242,-2.8811437267367594,-1.8961985942708137,-1.1309471222410479,-1.4047431444121425,-1.562678802503188,-0.8746941766529033,-0.21414722775806416,0.05049903263980632,-0.3069728295726427,-1.2180837959713737,-2.211255023675026,-3.1480165373358844,-2.593902078547533,-3.38077894193817,-3.880236796793188,-4.8244057729048135,-3.831585582564273,-3.4775628216397783,-3.0895226106563474,-2.217646986342932,-2.0738816932862614,-2.9614307823647703,-2.727460593113364,-1.9923679802902192,-1.065138025284674,-0.6550819089427985,-1.1729726009344703,-1.971981625166989,-2.665512524929888,-2.112125907399996,-2.1948904960164364,-1.4756722606850132,-1.1541993706676,-2.138448687404738,-2.8341550168122662,-3.62176425550477,-4.453957893441273,-4.494876754750319,-5.071589716968873,-6.0581426626732995,-5.135508328299903,-4.493770012632197,-3.7608626757936388,-2.7865515186700094,-3.4962340819103,-3.8865054814055844,-4.2278406049349035,-4.850686578409053,-5.462523578433587,-5.844743236998835,-5.817915830282959,-5.839060131013771,-6.319918658572214,-6.068083494280657,-5.609634972353517,-4.640346504502386,-5.213717213829754,-6.12873373519795,-6.006721920867271,-6.064278937940135,-5.825463917105398,-5.030793331454062,-4.05053431082893,-3.7142617018402313,-3.103120879768925,-3.21395488948731,-3.3487659809006214,-3.2298754217680368,-3.446897152295839,-3.8769101136360735,-4.401790768250443,-4.923368838363514,-3.9591849672175585,-3.247032082809273,-3.2611032983672463,-2.483258759936912,-1.6639432898216395,-1.5562891486102208,-0.5590770026424197,-1.055695970682741,-2.0540587152277237,-3.0186207681397605,-3.579082071010347,-4.574147217284044,-5.52623482329045,-5.297079966260736,-4.777159764757269,-4.247142884061453,-5.1770459834542635,-6.15047760707904,-7.005817770982182,-6.344731436135194,-5.921188712080973,-5.501394479977529,-6.483757840196218,-7.382287131632629,-7.368131413656013],\"type\":\"scatter\"}],                        {\"template\":{\"data\":{\"histogram2dcontour\":[{\"type\":\"histogram2dcontour\",\"colorbar\":{\"outlinewidth\":0,\"ticks\":\"\"},\"colorscale\":[[0.0,\"#0d0887\"],[0.1111111111111111,\"#46039f\"],[0.2222222222222222,\"#7201a8\"],[0.3333333333333333,\"#9c179e\"],[0.4444444444444444,\"#bd3786\"],[0.5555555555555556,\"#d8576b\"],[0.6666666666666666,\"#ed7953\"],[0.7777777777777778,\"#fb9f3a\"],[0.8888888888888888,\"#fdca26\"],[1.0,\"#f0f921\"]]}],\"choropleth\":[{\"type\":\"choropleth\",\"colorbar\":{\"outlinewidth\":0,\"ticks\":\"\"}}],\"histogram2d\":[{\"type\":\"histogram2d\",\"colorbar\":{\"outlinewidth\":0,\"ticks\":\"\"},\"colorscale\":[[0.0,\"#0d0887\"],[0.1111111111111111,\"#46039f\"],[0.2222222222222222,\"#7201a8\"],[0.3333333333333333,\"#9c179e\"],[0.4444444444444444,\"#bd3786\"],[0.5555555555555556,\"#d8576b\"],[0.6666666666666666,\"#ed7953\"],[0.7777777777777778,\"#fb9f3a\"],[0.8888888888888888,\"#fdca26\"],[1.0,\"#f0f921\"]]}],\"heatmap\":[{\"type\":\"heatmap\",\"colorbar\":{\"outlinewidth\":0,\"ticks\":\"\"},\"colorscale\":[[0.0,\"#0d0887\"],[0.1111111111111111,\"#46039f\"],[0.2222222222222222,\"#7201a8\"],[0.3333333333333333,\"#9c179e\"],[0.4444444444444444,\"#bd3786\"],[0.5555555555555556,\"#d8576b\"],[0.6666666666666666,\"#ed7953\"],[0.7777777777777778,\"#fb9f3a\"],[0.8888888888888888,\"#fdca26\"],[1.0,\"#f0f921\"]]}],\"heatmapgl\":[{\"type\":\"heatmapgl\",\"colorbar\":{\"outlinewidth\":0,\"ticks\":\"\"},\"colorscale\":[[0.0,\"#0d0887\"],[0.1111111111111111,\"#46039f\"],[0.2222222222222222,\"#7201a8\"],[0.3333333333333333,\"#9c179e\"],[0.4444444444444444,\"#bd3786\"],[0.5555555555555556,\"#d8576b\"],[0.6666666666666666,\"#ed7953\"],[0.7777777777777778,\"#fb9f3a\"],[0.8888888888888888,\"#fdca26\"],[1.0,\"#f0f921\"]]}],\"contourcarpet\":[{\"type\":\"contourcarpet\",\"colorbar\":{\"outlinewidth\":0,\"ticks\":\"\"}}],\"contour\":[{\"type\":\"contour\",\"colorbar\":{\"outlinewidth\":0,\"ticks\":\"\"},\"colorscale\":[[0.0,\"#0d0887\"],[0.1111111111111111,\"#46039f\"],[0.2222222222222222,\"#7201a8\"],[0.3333333333333333,\"#9c179e\"],[0.4444444444444444,\"#bd3786\"],[0.5555555555555556,\"#d8576b\"],[0.6666666666666666,\"#ed7953\"],[0.7777777777777778,\"#fb9f3a\"],[0.8888888888888888,\"#fdca26\"],[1.0,\"#f0f921\"]]}],\"surface\":[{\"type\":\"surface\",\"colorbar\":{\"outlinewidth\":0,\"ticks\":\"\"},\"colorscale\":[[0.0,\"#0d0887\"],[0.1111111111111111,\"#46039f\"],[0.2222222222222222,\"#7201a8\"],[0.3333333333333333,\"#9c179e\"],[0.4444444444444444,\"#bd3786\"],[0.5555555555555556,\"#d8576b\"],[0.6666666666666666,\"#ed7953\"],[0.7777777777777778,\"#fb9f3a\"],[0.8888888888888888,\"#fdca26\"],[1.0,\"#f0f921\"]]}],\"mesh3d\":[{\"type\":\"mesh3d\",\"colorbar\":{\"outlinewidth\":0,\"ticks\":\"\"}}],\"scatter\":[{\"fillpattern\":{\"fillmode\":\"overlay\",\"size\":10,\"solidity\":0.2},\"type\":\"scatter\"}],\"parcoords\":[{\"type\":\"parcoords\",\"line\":{\"colorbar\":{\"outlinewidth\":0,\"ticks\":\"\"}}}],\"scatterpolargl\":[{\"type\":\"scatterpolargl\",\"marker\":{\"colorbar\":{\"outlinewidth\":0,\"ticks\":\"\"}}}],\"bar\":[{\"error_x\":{\"color\":\"#2a3f5f\"},\"error_y\":{\"color\":\"#2a3f5f\"},\"marker\":{\"line\":{\"color\":\"#E5ECF6\",\"width\":0.5},\"pattern\":{\"fillmode\":\"overlay\",\"size\":10,\"solidity\":0.2}},\"type\":\"bar\"}],\"scattergeo\":[{\"type\":\"scattergeo\",\"marker\":{\"colorbar\":{\"outlinewidth\":0,\"ticks\":\"\"}}}],\"scatterpolar\":[{\"type\":\"scatterpolar\",\"marker\":{\"colorbar\":{\"outlinewidth\":0,\"ticks\":\"\"}}}],\"histogram\":[{\"marker\":{\"pattern\":{\"fillmode\":\"overlay\",\"size\":10,\"solidity\":0.2}},\"type\":\"histogram\"}],\"scattergl\":[{\"type\":\"scattergl\",\"marker\":{\"colorbar\":{\"outlinewidth\":0,\"ticks\":\"\"}}}],\"scatter3d\":[{\"type\":\"scatter3d\",\"line\":{\"colorbar\":{\"outlinewidth\":0,\"ticks\":\"\"}},\"marker\":{\"colorbar\":{\"outlinewidth\":0,\"ticks\":\"\"}}}],\"scattermapbox\":[{\"type\":\"scattermapbox\",\"marker\":{\"colorbar\":{\"outlinewidth\":0,\"ticks\":\"\"}}}],\"scatterternary\":[{\"type\":\"scatterternary\",\"marker\":{\"colorbar\":{\"outlinewidth\":0,\"ticks\":\"\"}}}],\"scattercarpet\":[{\"type\":\"scattercarpet\",\"marker\":{\"colorbar\":{\"outlinewidth\":0,\"ticks\":\"\"}}}],\"carpet\":[{\"aaxis\":{\"endlinecolor\":\"#2a3f5f\",\"gridcolor\":\"white\",\"linecolor\":\"white\",\"minorgridcolor\":\"white\",\"startlinecolor\":\"#2a3f5f\"},\"baxis\":{\"endlinecolor\":\"#2a3f5f\",\"gridcolor\":\"white\",\"linecolor\":\"white\",\"minorgridcolor\":\"white\",\"startlinecolor\":\"#2a3f5f\"},\"type\":\"carpet\"}],\"table\":[{\"cells\":{\"fill\":{\"color\":\"#EBF0F8\"},\"line\":{\"color\":\"white\"}},\"header\":{\"fill\":{\"color\":\"#C8D4E3\"},\"line\":{\"color\":\"white\"}},\"type\":\"table\"}],\"barpolar\":[{\"marker\":{\"line\":{\"color\":\"#E5ECF6\",\"width\":0.5},\"pattern\":{\"fillmode\":\"overlay\",\"size\":10,\"solidity\":0.2}},\"type\":\"barpolar\"}],\"pie\":[{\"automargin\":true,\"type\":\"pie\"}]},\"layout\":{\"autotypenumbers\":\"strict\",\"colorway\":[\"#636efa\",\"#EF553B\",\"#00cc96\",\"#ab63fa\",\"#FFA15A\",\"#19d3f3\",\"#FF6692\",\"#B6E880\",\"#FF97FF\",\"#FECB52\"],\"font\":{\"color\":\"#2a3f5f\"},\"hovermode\":\"closest\",\"hoverlabel\":{\"align\":\"left\"},\"paper_bgcolor\":\"white\",\"plot_bgcolor\":\"#E5ECF6\",\"polar\":{\"bgcolor\":\"#E5ECF6\",\"angularaxis\":{\"gridcolor\":\"white\",\"linecolor\":\"white\",\"ticks\":\"\"},\"radialaxis\":{\"gridcolor\":\"white\",\"linecolor\":\"white\",\"ticks\":\"\"}},\"ternary\":{\"bgcolor\":\"#E5ECF6\",\"aaxis\":{\"gridcolor\":\"white\",\"linecolor\":\"white\",\"ticks\":\"\"},\"baxis\":{\"gridcolor\":\"white\",\"linecolor\":\"white\",\"ticks\":\"\"},\"caxis\":{\"gridcolor\":\"white\",\"linecolor\":\"white\",\"ticks\":\"\"}},\"coloraxis\":{\"colorbar\":{\"outlinewidth\":0,\"ticks\":\"\"}},\"colorscale\":{\"sequential\":[[0.0,\"#0d0887\"],[0.1111111111111111,\"#46039f\"],[0.2222222222222222,\"#7201a8\"],[0.3333333333333333,\"#9c179e\"],[0.4444444444444444,\"#bd3786\"],[0.5555555555555556,\"#d8576b\"],[0.6666666666666666,\"#ed7953\"],[0.7777777777777778,\"#fb9f3a\"],[0.8888888888888888,\"#fdca26\"],[1.0,\"#f0f921\"]],\"sequentialminus\":[[0.0,\"#0d0887\"],[0.1111111111111111,\"#46039f\"],[0.2222222222222222,\"#7201a8\"],[0.3333333333333333,\"#9c179e\"],[0.4444444444444444,\"#bd3786\"],[0.5555555555555556,\"#d8576b\"],[0.6666666666666666,\"#ed7953\"],[0.7777777777777778,\"#fb9f3a\"],[0.8888888888888888,\"#fdca26\"],[1.0,\"#f0f921\"]],\"diverging\":[[0,\"#8e0152\"],[0.1,\"#c51b7d\"],[0.2,\"#de77ae\"],[0.3,\"#f1b6da\"],[0.4,\"#fde0ef\"],[0.5,\"#f7f7f7\"],[0.6,\"#e6f5d0\"],[0.7,\"#b8e186\"],[0.8,\"#7fbc41\"],[0.9,\"#4d9221\"],[1,\"#276419\"]]},\"xaxis\":{\"gridcolor\":\"white\",\"linecolor\":\"white\",\"ticks\":\"\",\"title\":{\"standoff\":15},\"zerolinecolor\":\"white\",\"automargin\":true,\"zerolinewidth\":2},\"yaxis\":{\"gridcolor\":\"white\",\"linecolor\":\"white\",\"ticks\":\"\",\"title\":{\"standoff\":15},\"zerolinecolor\":\"white\",\"automargin\":true,\"zerolinewidth\":2},\"scene\":{\"xaxis\":{\"backgroundcolor\":\"#E5ECF6\",\"gridcolor\":\"white\",\"linecolor\":\"white\",\"showbackground\":true,\"ticks\":\"\",\"zerolinecolor\":\"white\",\"gridwidth\":2},\"yaxis\":{\"backgroundcolor\":\"#E5ECF6\",\"gridcolor\":\"white\",\"linecolor\":\"white\",\"showbackground\":true,\"ticks\":\"\",\"zerolinecolor\":\"white\",\"gridwidth\":2},\"zaxis\":{\"backgroundcolor\":\"#E5ECF6\",\"gridcolor\":\"white\",\"linecolor\":\"white\",\"showbackground\":true,\"ticks\":\"\",\"zerolinecolor\":\"white\",\"gridwidth\":2}},\"shapedefaults\":{\"line\":{\"color\":\"#2a3f5f\"}},\"annotationdefaults\":{\"arrowcolor\":\"#2a3f5f\",\"arrowhead\":0,\"arrowwidth\":1},\"geo\":{\"bgcolor\":\"white\",\"landcolor\":\"#E5ECF6\",\"subunitcolor\":\"white\",\"showland\":true,\"showlakes\":true,\"lakecolor\":\"white\"},\"title\":{\"x\":0.05},\"mapbox\":{\"style\":\"light\"}}}},                        {\"responsive\": true}                    ).then(function(){\n",
              "                            \n",
              "var gd = document.getElementById('3b8593f6-d4de-4956-9f10-4ddb8107a282');\n",
              "var x = new MutationObserver(function (mutations, observer) {{\n",
              "        var display = window.getComputedStyle(gd).display;\n",
              "        if (!display || display === 'none') {{\n",
              "            console.log([gd, 'removed!']);\n",
              "            Plotly.purge(gd);\n",
              "            observer.disconnect();\n",
              "        }}\n",
              "}});\n",
              "\n",
              "// Listen for the removal of the full notebook cells\n",
              "var notebookContainer = gd.closest('#notebook-container');\n",
              "if (notebookContainer) {{\n",
              "    x.observe(notebookContainer, {childList: true});\n",
              "}}\n",
              "\n",
              "// Listen for the clearing of the current output cell\n",
              "var outputEl = gd.closest('.output');\n",
              "if (outputEl) {{\n",
              "    x.observe(outputEl, {childList: true});\n",
              "}}\n",
              "\n",
              "                        })                };                            </script>        </div>\n",
              "</body>\n",
              "</html>"
            ]
          },
          "metadata": {}
        }
      ],
      "source": [
        "# Activity 1: Correlated Random Walk - 1 Trajectory\n",
        "def correlated_random_walk(steps=100):\n",
        "    pos = Vec2d(0, 0)\n",
        "    trajectory = np.zeros((steps, 2))\n",
        "\n",
        "    direction = Vec2d(1, 0)  # Right direction\n",
        "\n",
        "    for i in range(steps):\n",
        "        angle = stats.cauchy.rvs()  # Cauchy distribution - rotation\n",
        "        direction = direction.rotated(angle)\n",
        "        pos += direction\n",
        "        trajectory[i] = [pos.x, pos.y]\n",
        "\n",
        "    return trajectory\n",
        "\n",
        "# Graph\n",
        "trajectory = correlated_random_walk(200)\n",
        "\n",
        "fig = go.Figure()\n",
        "fig.add_trace(go.Scatter(x=trajectory[:, 0], y=trajectory[:, 1], mode='lines'))\n",
        "fig.show()\n"
      ]
    },
    {
      "cell_type": "code",
      "execution_count": null,
      "metadata": {
        "id": "57I-badLGreK"
      },
      "outputs": [],
      "source": [
        "# Run gradient descent algorithm"
      ]
    },
    {
      "cell_type": "code",
      "execution_count": null,
      "metadata": {
        "id": "gAygfAJIGreK"
      },
      "outputs": [],
      "source": [
        "# Plot the results"
      ]
    }
  ],
  "metadata": {
    "language_info": {
      "name": "python"
    },
    "colab": {
      "provenance": []
    },
    "kernelspec": {
      "name": "python3",
      "display_name": "Python 3"
    }
  },
  "nbformat": 4,
  "nbformat_minor": 0
}